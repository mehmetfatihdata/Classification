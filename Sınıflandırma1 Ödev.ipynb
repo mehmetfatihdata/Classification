{
 "cells": [
  {
   "cell_type": "markdown",
   "metadata": {},
   "source": [
    "Evin büyüklüğü veri alındığında, evin fiyatını tahmin etmek: SINIFLANDIRMA\n",
    "\n",
    "Eve bakmaya gelenlerin kıyafetlerinden, kimin evi satın alma ihtimalinin yüksek veya düşük olduğu sonucuna varmak :REGRESYON\n",
    "\n",
    "Lokasyon ve tarih gibi parametreleri kullanarak, yağmur yağma ihtimalini hesaplamak : SINIFLANDIRMA\n",
    "\n",
    "Eğitim, tecrübe gibi parametreleri kullanarak, kişinin maaşını tahmin etmek :REGRESYON\n",
    "\n",
    "Bir insanın yaşının tahmin edilmesi : REGRESYON\n",
    "\n",
    "Bir insanın gelirinin tahmin edilmesi: REGRESYON\n",
    "\n",
    "Herhangi bir hisse senedinin fiyatının yönünün tahmin edilmesi : SINIFLANDIRMA OR REGRESYON"
   ]
  },
  {
   "cell_type": "code",
   "execution_count": null,
   "metadata": {},
   "outputs": [],
   "source": []
  }
 ],
 "metadata": {
  "kernelspec": {
   "display_name": "Python 3",
   "language": "python",
   "name": "python3"
  },
  "language_info": {
   "codemirror_mode": {
    "name": "ipython",
    "version": 3
   },
   "file_extension": ".py",
   "mimetype": "text/x-python",
   "name": "python",
   "nbconvert_exporter": "python",
   "pygments_lexer": "ipython3",
   "version": "3.7.4"
  }
 },
 "nbformat": 4,
 "nbformat_minor": 2
}
